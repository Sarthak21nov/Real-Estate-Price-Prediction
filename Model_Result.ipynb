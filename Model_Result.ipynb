{
 "cells": [
  {
   "cell_type": "markdown",
   "id": "a15edeb8",
   "metadata": {},
   "source": [
    "# Model Selection"
   ]
  },
  {
   "cell_type": "code",
   "execution_count": 1,
   "id": "44a8ff08",
   "metadata": {},
   "outputs": [],
   "source": [
    "# 1. Linear Regression:\n",
    "#    Mean Squared Error = 73.56837932850077\n",
    "#    Mean Absolute Error = 6.18483634009705\n",
    "#    Root Mean Square Error = 8.577201136064186\n",
    "   \n",
    "# 2. Random Forest Regressor:\n",
    "#    Mean Squared Error = 44.826556491897776\n",
    "#    Mean Absolute Error = 4.459660533333336\n",
    "#    Root Mean Square Error = 6.695263735798447\n",
    "   \n",
    "# 3. Decision Tree Regressor:\n",
    "#    Mean Squared Error = 72.8629\n",
    "#    Mean Absolute Error = 5.6796\n",
    "#    Root Mean Square Error = 8.535976804092195\n",
    "   \n",
    "# 4. XgBoost Regressor:\n",
    "#    Mean Squared Error = 44.72055443197218\n",
    "#    Mean Absolute Error = 4.625200880432129\n",
    "#    Root Mean Square Error = 6.687342852880521"
   ]
  }
 ],
 "metadata": {
  "kernelspec": {
   "display_name": "Python 3 (ipykernel)",
   "language": "python",
   "name": "python3"
  },
  "language_info": {
   "codemirror_mode": {
    "name": "ipython",
    "version": 3
   },
   "file_extension": ".py",
   "mimetype": "text/x-python",
   "name": "python",
   "nbconvert_exporter": "python",
   "pygments_lexer": "ipython3",
   "version": "3.9.12"
  }
 },
 "nbformat": 4,
 "nbformat_minor": 5
}
