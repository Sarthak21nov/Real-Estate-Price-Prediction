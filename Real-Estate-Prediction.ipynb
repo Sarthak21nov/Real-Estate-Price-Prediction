{
 "cells": [
  {
   "cell_type": "markdown",
   "id": "f6027e86",
   "metadata": {},
   "source": [
    "## Importing all the required module and calling the .csv file in our .ipynb notebook"
   ]
  },
  {
   "cell_type": "code",
   "execution_count": 1,
   "id": "5558d852",
   "metadata": {},
   "outputs": [],
   "source": [
    "import pandas as pd\n",
    "import numpy as np\n",
    "import matplotlib.pyplot as plt\n",
    "import seaborn as sns"
   ]
  },
  {
   "cell_type": "code",
   "execution_count": 2,
   "id": "e3489e34",
   "metadata": {},
   "outputs": [],
   "source": [
    "price = pd.read_csv(\"RealEstate.csv\")"
   ]
  },
  {
   "cell_type": "code",
   "execution_count": 3,
   "id": "a0da2236",
   "metadata": {
    "scrolled": true
   },
   "outputs": [
    {
     "data": {
      "text/html": [
       "<div>\n",
       "<style scoped>\n",
       "    .dataframe tbody tr th:only-of-type {\n",
       "        vertical-align: middle;\n",
       "    }\n",
       "\n",
       "    .dataframe tbody tr th {\n",
       "        vertical-align: top;\n",
       "    }\n",
       "\n",
       "    .dataframe thead th {\n",
       "        text-align: right;\n",
       "    }\n",
       "</style>\n",
       "<table border=\"1\" class=\"dataframe\">\n",
       "  <thead>\n",
       "    <tr style=\"text-align: right;\">\n",
       "      <th></th>\n",
       "      <th>No</th>\n",
       "      <th>X1 transaction date</th>\n",
       "      <th>X2 house age</th>\n",
       "      <th>X3 distance to the nearest MRT station</th>\n",
       "      <th>X4 number of convenience stores</th>\n",
       "      <th>X5 latitude</th>\n",
       "      <th>X6 longitude</th>\n",
       "      <th>Y house price of unit area</th>\n",
       "    </tr>\n",
       "  </thead>\n",
       "  <tbody>\n",
       "    <tr>\n",
       "      <th>0</th>\n",
       "      <td>1</td>\n",
       "      <td>2012.917</td>\n",
       "      <td>32.0</td>\n",
       "      <td>84.87882</td>\n",
       "      <td>10</td>\n",
       "      <td>24.98298</td>\n",
       "      <td>121.54024</td>\n",
       "      <td>37.9</td>\n",
       "    </tr>\n",
       "    <tr>\n",
       "      <th>1</th>\n",
       "      <td>2</td>\n",
       "      <td>2012.917</td>\n",
       "      <td>19.5</td>\n",
       "      <td>306.59470</td>\n",
       "      <td>9</td>\n",
       "      <td>24.98034</td>\n",
       "      <td>121.53951</td>\n",
       "      <td>42.2</td>\n",
       "    </tr>\n",
       "    <tr>\n",
       "      <th>2</th>\n",
       "      <td>3</td>\n",
       "      <td>2013.583</td>\n",
       "      <td>13.3</td>\n",
       "      <td>561.98450</td>\n",
       "      <td>5</td>\n",
       "      <td>24.98746</td>\n",
       "      <td>121.54391</td>\n",
       "      <td>47.3</td>\n",
       "    </tr>\n",
       "    <tr>\n",
       "      <th>3</th>\n",
       "      <td>4</td>\n",
       "      <td>2013.500</td>\n",
       "      <td>13.3</td>\n",
       "      <td>561.98450</td>\n",
       "      <td>5</td>\n",
       "      <td>24.98746</td>\n",
       "      <td>121.54391</td>\n",
       "      <td>54.8</td>\n",
       "    </tr>\n",
       "    <tr>\n",
       "      <th>4</th>\n",
       "      <td>5</td>\n",
       "      <td>2012.833</td>\n",
       "      <td>5.0</td>\n",
       "      <td>390.56840</td>\n",
       "      <td>5</td>\n",
       "      <td>24.97937</td>\n",
       "      <td>121.54245</td>\n",
       "      <td>43.1</td>\n",
       "    </tr>\n",
       "  </tbody>\n",
       "</table>\n",
       "</div>"
      ],
      "text/plain": [
       "   No  X1 transaction date  X2 house age  \\\n",
       "0   1             2012.917          32.0   \n",
       "1   2             2012.917          19.5   \n",
       "2   3             2013.583          13.3   \n",
       "3   4             2013.500          13.3   \n",
       "4   5             2012.833           5.0   \n",
       "\n",
       "   X3 distance to the nearest MRT station  X4 number of convenience stores  \\\n",
       "0                                84.87882                               10   \n",
       "1                               306.59470                                9   \n",
       "2                               561.98450                                5   \n",
       "3                               561.98450                                5   \n",
       "4                               390.56840                                5   \n",
       "\n",
       "   X5 latitude  X6 longitude  Y house price of unit area  \n",
       "0     24.98298     121.54024                        37.9  \n",
       "1     24.98034     121.53951                        42.2  \n",
       "2     24.98746     121.54391                        47.3  \n",
       "3     24.98746     121.54391                        54.8  \n",
       "4     24.97937     121.54245                        43.1  "
      ]
     },
     "execution_count": 3,
     "metadata": {},
     "output_type": "execute_result"
    }
   ],
   "source": [
    "price.head()"
   ]
  },
  {
   "cell_type": "code",
   "execution_count": 4,
   "id": "ec25ade7",
   "metadata": {},
   "outputs": [
    {
     "data": {
      "text/html": [
       "<div>\n",
       "<style scoped>\n",
       "    .dataframe tbody tr th:only-of-type {\n",
       "        vertical-align: middle;\n",
       "    }\n",
       "\n",
       "    .dataframe tbody tr th {\n",
       "        vertical-align: top;\n",
       "    }\n",
       "\n",
       "    .dataframe thead th {\n",
       "        text-align: right;\n",
       "    }\n",
       "</style>\n",
       "<table border=\"1\" class=\"dataframe\">\n",
       "  <thead>\n",
       "    <tr style=\"text-align: right;\">\n",
       "      <th></th>\n",
       "      <th>No</th>\n",
       "      <th>X1 transaction date</th>\n",
       "      <th>X2 house age</th>\n",
       "      <th>X3 distance to the nearest MRT station</th>\n",
       "      <th>X4 number of convenience stores</th>\n",
       "      <th>X5 latitude</th>\n",
       "      <th>X6 longitude</th>\n",
       "      <th>Y house price of unit area</th>\n",
       "    </tr>\n",
       "  </thead>\n",
       "  <tbody>\n",
       "    <tr>\n",
       "      <th>count</th>\n",
       "      <td>414.000000</td>\n",
       "      <td>414.000000</td>\n",
       "      <td>414.000000</td>\n",
       "      <td>414.000000</td>\n",
       "      <td>414.000000</td>\n",
       "      <td>414.000000</td>\n",
       "      <td>414.000000</td>\n",
       "      <td>414.000000</td>\n",
       "    </tr>\n",
       "    <tr>\n",
       "      <th>mean</th>\n",
       "      <td>207.500000</td>\n",
       "      <td>2013.148971</td>\n",
       "      <td>17.712560</td>\n",
       "      <td>1083.885689</td>\n",
       "      <td>4.094203</td>\n",
       "      <td>24.969030</td>\n",
       "      <td>121.533361</td>\n",
       "      <td>37.980193</td>\n",
       "    </tr>\n",
       "    <tr>\n",
       "      <th>std</th>\n",
       "      <td>119.655756</td>\n",
       "      <td>0.281967</td>\n",
       "      <td>11.392485</td>\n",
       "      <td>1262.109595</td>\n",
       "      <td>2.945562</td>\n",
       "      <td>0.012410</td>\n",
       "      <td>0.015347</td>\n",
       "      <td>13.606488</td>\n",
       "    </tr>\n",
       "    <tr>\n",
       "      <th>min</th>\n",
       "      <td>1.000000</td>\n",
       "      <td>2012.667000</td>\n",
       "      <td>0.000000</td>\n",
       "      <td>23.382840</td>\n",
       "      <td>0.000000</td>\n",
       "      <td>24.932070</td>\n",
       "      <td>121.473530</td>\n",
       "      <td>7.600000</td>\n",
       "    </tr>\n",
       "    <tr>\n",
       "      <th>25%</th>\n",
       "      <td>104.250000</td>\n",
       "      <td>2012.917000</td>\n",
       "      <td>9.025000</td>\n",
       "      <td>289.324800</td>\n",
       "      <td>1.000000</td>\n",
       "      <td>24.963000</td>\n",
       "      <td>121.528085</td>\n",
       "      <td>27.700000</td>\n",
       "    </tr>\n",
       "    <tr>\n",
       "      <th>50%</th>\n",
       "      <td>207.500000</td>\n",
       "      <td>2013.167000</td>\n",
       "      <td>16.100000</td>\n",
       "      <td>492.231300</td>\n",
       "      <td>4.000000</td>\n",
       "      <td>24.971100</td>\n",
       "      <td>121.538630</td>\n",
       "      <td>38.450000</td>\n",
       "    </tr>\n",
       "    <tr>\n",
       "      <th>75%</th>\n",
       "      <td>310.750000</td>\n",
       "      <td>2013.417000</td>\n",
       "      <td>28.150000</td>\n",
       "      <td>1454.279000</td>\n",
       "      <td>6.000000</td>\n",
       "      <td>24.977455</td>\n",
       "      <td>121.543305</td>\n",
       "      <td>46.600000</td>\n",
       "    </tr>\n",
       "    <tr>\n",
       "      <th>max</th>\n",
       "      <td>414.000000</td>\n",
       "      <td>2013.583000</td>\n",
       "      <td>43.800000</td>\n",
       "      <td>6488.021000</td>\n",
       "      <td>10.000000</td>\n",
       "      <td>25.014590</td>\n",
       "      <td>121.566270</td>\n",
       "      <td>117.500000</td>\n",
       "    </tr>\n",
       "  </tbody>\n",
       "</table>\n",
       "</div>"
      ],
      "text/plain": [
       "               No  X1 transaction date  X2 house age  \\\n",
       "count  414.000000           414.000000    414.000000   \n",
       "mean   207.500000          2013.148971     17.712560   \n",
       "std    119.655756             0.281967     11.392485   \n",
       "min      1.000000          2012.667000      0.000000   \n",
       "25%    104.250000          2012.917000      9.025000   \n",
       "50%    207.500000          2013.167000     16.100000   \n",
       "75%    310.750000          2013.417000     28.150000   \n",
       "max    414.000000          2013.583000     43.800000   \n",
       "\n",
       "       X3 distance to the nearest MRT station  \\\n",
       "count                              414.000000   \n",
       "mean                              1083.885689   \n",
       "std                               1262.109595   \n",
       "min                                 23.382840   \n",
       "25%                                289.324800   \n",
       "50%                                492.231300   \n",
       "75%                               1454.279000   \n",
       "max                               6488.021000   \n",
       "\n",
       "       X4 number of convenience stores  X5 latitude  X6 longitude  \\\n",
       "count                       414.000000   414.000000    414.000000   \n",
       "mean                          4.094203    24.969030    121.533361   \n",
       "std                           2.945562     0.012410      0.015347   \n",
       "min                           0.000000    24.932070    121.473530   \n",
       "25%                           1.000000    24.963000    121.528085   \n",
       "50%                           4.000000    24.971100    121.538630   \n",
       "75%                           6.000000    24.977455    121.543305   \n",
       "max                          10.000000    25.014590    121.566270   \n",
       "\n",
       "       Y house price of unit area  \n",
       "count                  414.000000  \n",
       "mean                    37.980193  \n",
       "std                     13.606488  \n",
       "min                      7.600000  \n",
       "25%                     27.700000  \n",
       "50%                     38.450000  \n",
       "75%                     46.600000  \n",
       "max                    117.500000  "
      ]
     },
     "execution_count": 4,
     "metadata": {},
     "output_type": "execute_result"
    }
   ],
   "source": [
    "price.describe()"
   ]
  },
  {
   "cell_type": "code",
   "execution_count": 5,
   "id": "b8dcffab",
   "metadata": {},
   "outputs": [
    {
     "name": "stdout",
     "output_type": "stream",
     "text": [
      "<class 'pandas.core.frame.DataFrame'>\n",
      "RangeIndex: 414 entries, 0 to 413\n",
      "Data columns (total 8 columns):\n",
      " #   Column                                  Non-Null Count  Dtype  \n",
      "---  ------                                  --------------  -----  \n",
      " 0   No                                      414 non-null    int64  \n",
      " 1   X1 transaction date                     414 non-null    float64\n",
      " 2   X2 house age                            414 non-null    float64\n",
      " 3   X3 distance to the nearest MRT station  414 non-null    float64\n",
      " 4   X4 number of convenience stores         414 non-null    int64  \n",
      " 5   X5 latitude                             414 non-null    float64\n",
      " 6   X6 longitude                            414 non-null    float64\n",
      " 7   Y house price of unit area              414 non-null    float64\n",
      "dtypes: float64(6), int64(2)\n",
      "memory usage: 26.0 KB\n"
     ]
    }
   ],
   "source": [
    "price.info()"
   ]
  },
  {
   "cell_type": "markdown",
   "id": "e7dc1555",
   "metadata": {},
   "source": [
    "## Creating the Histogram of each features present in dataset"
   ]
  },
  {
   "cell_type": "code",
   "execution_count": 6,
   "id": "2edbe476",
   "metadata": {},
   "outputs": [
    {
     "data": {
      "text/plain": [
       "array([[<AxesSubplot:title={'center':'No'}>,\n",
       "        <AxesSubplot:title={'center':'X1 transaction date'}>,\n",
       "        <AxesSubplot:title={'center':'X2 house age'}>],\n",
       "       [<AxesSubplot:title={'center':'X3 distance to the nearest MRT station'}>,\n",
       "        <AxesSubplot:title={'center':'X4 number of convenience stores'}>,\n",
       "        <AxesSubplot:title={'center':'X5 latitude'}>],\n",
       "       [<AxesSubplot:title={'center':'X6 longitude'}>,\n",
       "        <AxesSubplot:title={'center':'Y house price of unit area'}>,\n",
       "        <AxesSubplot:>]], dtype=object)"
      ]
     },
     "execution_count": 6,
     "metadata": {},
     "output_type": "execute_result"
    },
    {
     "data": {
      "image/png": "[encoded data removed]",
      "text/plain": [
       "<Figure size 1440x1080 with 9 Axes>"
      ]
     },
     "metadata": {
      "needs_background": "light"
     },
     "output_type": "display_data"
    }
   ],
   "source": [
    "price.hist(bins=50, figsize=(20,15))"
   ]
  },
  {
   "cell_type": "markdown",
   "id": "c798a718",
   "metadata": {},
   "source": [
    "## Checking the Correlation of every feature with 'house price of unit area'"
   ]
  },
  {
   "cell_type": "code",
   "execution_count": 7,
   "id": "5e3a1e21",
   "metadata": {},
   "outputs": [
    {
     "data": {
      "text/plain": [
       "Y house price of unit area                1.000000\n",
       "X4 number of convenience stores           0.571005\n",
       "X5 latitude                               0.546307\n",
       "X6 longitude                              0.523287\n",
       "X1 transaction date                       0.087491\n",
       "No                                       -0.028587\n",
       "X2 house age                             -0.210567\n",
       "X3 distance to the nearest MRT station   -0.673613\n",
       "Name: Y house price of unit area, dtype: float64"
      ]
     },
     "execution_count": 7,
     "metadata": {},
     "output_type": "execute_result"
    }
   ],
   "source": [
    "correlation = price.corr()\n",
    "correlation['Y house price of unit area'].sort_values(ascending=False)"
   ]
  },
  {
   "cell_type": "markdown",
   "id": "56985744",
   "metadata": {},
   "source": [
    "## Creating the feature and label ('house price of unit area')"
   ]
  },
  {
   "cell_type": "code",
   "execution_count": 8,
   "id": "97050890",
   "metadata": {},
   "outputs": [],
   "source": [
    "feature = price.drop(['Y house price of unit area','No'], axis=1)\n",
    "label = price['Y house price of unit area']"
   ]
  },
  {
   "cell_type": "markdown",
   "id": "e9c53a9f",
   "metadata": {},
   "source": [
    "## Train test Splitting using sklearn (Ratio: 70:30)"
   ]
  },
  {
   "cell_type": "code",
   "execution_count": 9,
   "id": "40f5fe76",
   "metadata": {},
   "outputs": [],
   "source": [
    "from sklearn.model_selection import train_test_split\n",
    "feature_train_set, feature_test_set, label_train_set, label_test_set = train_test_split(feature, label, test_size=0.3, random_state=42)"
   ]
  },
  {
   "cell_type": "code",
   "execution_count": 10,
   "id": "ea2a6666",
   "metadata": {},
   "outputs": [
    {
     "data": {
      "text/html": [
       "<div>\n",
       "<style scoped>\n",
       "    .dataframe tbody tr th:only-of-type {\n",
       "        vertical-align: middle;\n",
       "    }\n",
       "\n",
       "    .dataframe tbody tr th {\n",
       "        vertical-align: top;\n",
       "    }\n",
       "\n",
       "    .dataframe thead th {\n",
       "        text-align: right;\n",
       "    }\n",
       "</style>\n",
       "<table border=\"1\" class=\"dataframe\">\n",
       "  <thead>\n",
       "    <tr style=\"text-align: right;\">\n",
       "      <th></th>\n",
       "      <th>X1 transaction date</th>\n",
       "      <th>X2 house age</th>\n",
       "      <th>X3 distance to the nearest MRT station</th>\n",
       "      <th>X4 number of convenience stores</th>\n",
       "      <th>X5 latitude</th>\n",
       "      <th>X6 longitude</th>\n",
       "    </tr>\n",
       "  </thead>\n",
       "  <tbody>\n",
       "    <tr>\n",
       "      <th>7</th>\n",
       "      <td>2013.417</td>\n",
       "      <td>20.3</td>\n",
       "      <td>287.60250</td>\n",
       "      <td>6</td>\n",
       "      <td>24.98042</td>\n",
       "      <td>121.54228</td>\n",
       "    </tr>\n",
       "    <tr>\n",
       "      <th>194</th>\n",
       "      <td>2013.500</td>\n",
       "      <td>15.2</td>\n",
       "      <td>3771.89500</td>\n",
       "      <td>0</td>\n",
       "      <td>24.93363</td>\n",
       "      <td>121.51158</td>\n",
       "    </tr>\n",
       "    <tr>\n",
       "      <th>19</th>\n",
       "      <td>2012.667</td>\n",
       "      <td>1.5</td>\n",
       "      <td>23.38284</td>\n",
       "      <td>7</td>\n",
       "      <td>24.96772</td>\n",
       "      <td>121.54102</td>\n",
       "    </tr>\n",
       "    <tr>\n",
       "      <th>176</th>\n",
       "      <td>2012.833</td>\n",
       "      <td>13.9</td>\n",
       "      <td>4573.77900</td>\n",
       "      <td>0</td>\n",
       "      <td>24.94867</td>\n",
       "      <td>121.49507</td>\n",
       "    </tr>\n",
       "    <tr>\n",
       "      <th>367</th>\n",
       "      <td>2012.833</td>\n",
       "      <td>15.0</td>\n",
       "      <td>1828.31900</td>\n",
       "      <td>2</td>\n",
       "      <td>24.96464</td>\n",
       "      <td>121.51531</td>\n",
       "    </tr>\n",
       "  </tbody>\n",
       "</table>\n",
       "</div>"
      ],
      "text/plain": [
       "     X1 transaction date  X2 house age  \\\n",
       "7               2013.417          20.3   \n",
       "194             2013.500          15.2   \n",
       "19              2012.667           1.5   \n",
       "176             2012.833          13.9   \n",
       "367             2012.833          15.0   \n",
       "\n",
       "     X3 distance to the nearest MRT station  X4 number of convenience stores  \\\n",
       "7                                 287.60250                                6   \n",
       "194                              3771.89500                                0   \n",
       "19                                 23.38284                                7   \n",
       "176                              4573.77900                                0   \n",
       "367                              1828.31900                                2   \n",
       "\n",
       "     X5 latitude  X6 longitude  \n",
       "7       24.98042     121.54228  \n",
       "194     24.93363     121.51158  \n",
       "19      24.96772     121.54102  \n",
       "176     24.94867     121.49507  \n",
       "367     24.96464     121.51531  "
      ]
     },
     "execution_count": 10,
     "metadata": {},
     "output_type": "execute_result"
    }
   ],
   "source": [
    "feature_train_set.head()"
   ]
  },
  {
   "cell_type": "markdown",
   "id": "8e957985",
   "metadata": {},
   "source": [
    "## LinearRegression"
   ]
  },
  {
   "cell_type": "code",
   "execution_count": 11,
   "id": "ebed20e0",
   "metadata": {},
   "outputs": [
    {
     "data": {
      "text/plain": [
       "LinearRegression()"
      ]
     },
     "execution_count": 11,
     "metadata": {},
     "output_type": "execute_result"
    }
   ],
   "source": [
    "from sklearn.linear_model import LinearRegression\n",
    "algo1 = LinearRegression()\n",
    "algo1.fit(feature_train_set, label_train_set)"
   ]
  },
  {
   "cell_type": "code",
   "execution_count": 12,
   "id": "fe6d3387",
   "metadata": {},
   "outputs": [
    {
     "data": {
      "text/plain": [
       "array([ 5.84779706e+00, -2.42545813e-01, -5.13873381e-03,  1.07449530e+00,\n",
       "        2.39096949e+02, -5.22351591e+01])"
      ]
     },
     "execution_count": 12,
     "metadata": {},
     "output_type": "execute_result"
    }
   ],
   "source": [
    "algo1.coef_"
   ]
  },
  {
   "cell_type": "code",
   "execution_count": 13,
   "id": "11264d5e",
   "metadata": {},
   "outputs": [
    {
     "data": {
      "text/plain": [
       "-11350.740518771496"
      ]
     },
     "execution_count": 13,
     "metadata": {},
     "output_type": "execute_result"
    }
   ],
   "source": [
    "algo1.intercept_"
   ]
  },
  {
   "cell_type": "code",
   "execution_count": 14,
   "id": "4c368439",
   "metadata": {},
   "outputs": [
    {
     "data": {
      "text/html": [
       "<div>\n",
       "<style scoped>\n",
       "    .dataframe tbody tr th:only-of-type {\n",
       "        vertical-align: middle;\n",
       "    }\n",
       "\n",
       "    .dataframe tbody tr th {\n",
       "        vertical-align: top;\n",
       "    }\n",
       "\n",
       "    .dataframe thead th {\n",
       "        text-align: right;\n",
       "    }\n",
       "</style>\n",
       "<table border=\"1\" class=\"dataframe\">\n",
       "  <thead>\n",
       "    <tr style=\"text-align: right;\">\n",
       "      <th></th>\n",
       "      <th>Price of a Unit Area(Correct Value)</th>\n",
       "      <th>Predicted Price</th>\n",
       "    </tr>\n",
       "  </thead>\n",
       "  <tbody>\n",
       "    <tr>\n",
       "      <th>358</th>\n",
       "      <td>45.1</td>\n",
       "      <td>47.554302</td>\n",
       "    </tr>\n",
       "    <tr>\n",
       "      <th>350</th>\n",
       "      <td>42.3</td>\n",
       "      <td>41.083727</td>\n",
       "    </tr>\n",
       "    <tr>\n",
       "      <th>373</th>\n",
       "      <td>52.2</td>\n",
       "      <td>44.255517</td>\n",
       "    </tr>\n",
       "    <tr>\n",
       "      <th>399</th>\n",
       "      <td>37.3</td>\n",
       "      <td>40.516851</td>\n",
       "    </tr>\n",
       "    <tr>\n",
       "      <th>369</th>\n",
       "      <td>22.8</td>\n",
       "      <td>27.434676</td>\n",
       "    </tr>\n",
       "    <tr>\n",
       "      <th>...</th>\n",
       "      <td>...</td>\n",
       "      <td>...</td>\n",
       "    </tr>\n",
       "    <tr>\n",
       "      <th>268</th>\n",
       "      <td>40.1</td>\n",
       "      <td>46.209098</td>\n",
       "    </tr>\n",
       "    <tr>\n",
       "      <th>148</th>\n",
       "      <td>45.1</td>\n",
       "      <td>14.580938</td>\n",
       "    </tr>\n",
       "    <tr>\n",
       "      <th>16</th>\n",
       "      <td>70.1</td>\n",
       "      <td>50.407471</td>\n",
       "    </tr>\n",
       "    <tr>\n",
       "      <th>66</th>\n",
       "      <td>50.7</td>\n",
       "      <td>46.601975</td>\n",
       "    </tr>\n",
       "    <tr>\n",
       "      <th>341</th>\n",
       "      <td>37.0</td>\n",
       "      <td>37.996319</td>\n",
       "    </tr>\n",
       "  </tbody>\n",
       "</table>\n",
       "<p>125 rows × 2 columns</p>\n",
       "</div>"
      ],
      "text/plain": [
       "     Price of a Unit Area(Correct Value)  Predicted Price\n",
       "358                                 45.1        47.554302\n",
       "350                                 42.3        41.083727\n",
       "373                                 52.2        44.255517\n",
       "399                                 37.3        40.516851\n",
       "369                                 22.8        27.434676\n",
       "..                                   ...              ...\n",
       "268                                 40.1        46.209098\n",
       "148                                 45.1        14.580938\n",
       "16                                  70.1        50.407471\n",
       "66                                  50.7        46.601975\n",
       "341                                 37.0        37.996319\n",
       "\n",
       "[125 rows x 2 columns]"
      ]
     },
     "execution_count": 14,
     "metadata": {},
     "output_type": "execute_result"
    }
   ],
   "source": [
    "pre1 = algo1.predict(feature_test_set)\n",
    "pd.DataFrame({'Price of a Unit Area(Correct Value)':label_test_set,'Predicted Price':pre1})"
   ]
  },
  {
   "cell_type": "markdown",
   "id": "4ad67832",
   "metadata": {},
   "source": [
    "## Checking the model of Linear Regression by various metrices(MSE,MAE,RMS)"
   ]
  },
  {
   "cell_type": "code",
   "execution_count": 15,
   "id": "68430cb5",
   "metadata": {},
   "outputs": [],
   "source": [
    "from sklearn.metrics import mean_squared_error, mean_absolute_error\n",
    "mean_sq = mean_squared_error(pre1, label_test_set)\n",
    "mean_abs = mean_absolute_error(pre1, label_test_set)\n",
    "rms = np.sqrt(mean_sq)"
   ]
  },
  {
   "cell_type": "code",
   "execution_count": 16,
   "id": "e1c97c6a",
   "metadata": {},
   "outputs": [
    {
     "data": {
      "text/plain": [
       "(73.56837932850077, 6.18483634009705, 8.577201136064186)"
      ]
     },
     "execution_count": 16,
     "metadata": {},
     "output_type": "execute_result"
    }
   ],
   "source": [
    "mean_sq, mean_abs, rms"
   ]
  },
  {
   "cell_type": "markdown",
   "id": "79162f03",
   "metadata": {},
   "source": [
    "## Result of LinearRegression Evaluation\n",
    "## mean_sq, mean_abs, rms = (73.56837932850077, 6.18483634009705, 8.577201136064186)\n",
    "## Intercept = -11350.740518771496"
   ]
  },
  {
   "cell_type": "markdown",
   "id": "116387d1",
   "metadata": {},
   "source": [
    "## Decision Tree Regression"
   ]
  },
  {
   "cell_type": "code",
   "execution_count": 17,
   "id": "c860fe31",
   "metadata": {},
   "outputs": [
    {
     "data": {
      "text/plain": [
       "DecisionTreeRegressor()"
      ]
     },
     "execution_count": 17,
     "metadata": {},
     "output_type": "execute_result"
    }
   ],
   "source": [
    "from sklearn.tree import DecisionTreeRegressor\n",
    "algo2 = DecisionTreeRegressor()\n",
    "algo2.fit(feature_train_set, label_train_set)"
   ]
  },
  {
   "cell_type": "code",
   "execution_count": 18,
   "id": "0923a631",
   "metadata": {},
   "outputs": [
    {
     "data": {
      "text/html": [
       "<div>\n",
       "<style scoped>\n",
       "    .dataframe tbody tr th:only-of-type {\n",
       "        vertical-align: middle;\n",
       "    }\n",
       "\n",
       "    .dataframe tbody tr th {\n",
       "        vertical-align: top;\n",
       "    }\n",
       "\n",
       "    .dataframe thead th {\n",
       "        text-align: right;\n",
       "    }\n",
       "</style>\n",
       "<table border=\"1\" class=\"dataframe\">\n",
       "  <thead>\n",
       "    <tr style=\"text-align: right;\">\n",
       "      <th></th>\n",
       "      <th>Price of a Unit Area(Correct Value)</th>\n",
       "      <th>Predicted Price</th>\n",
       "    </tr>\n",
       "  </thead>\n",
       "  <tbody>\n",
       "    <tr>\n",
       "      <th>358</th>\n",
       "      <td>45.1</td>\n",
       "      <td>48.6</td>\n",
       "    </tr>\n",
       "    <tr>\n",
       "      <th>350</th>\n",
       "      <td>42.3</td>\n",
       "      <td>38.9</td>\n",
       "    </tr>\n",
       "    <tr>\n",
       "      <th>373</th>\n",
       "      <td>52.2</td>\n",
       "      <td>43.5</td>\n",
       "    </tr>\n",
       "    <tr>\n",
       "      <th>399</th>\n",
       "      <td>37.3</td>\n",
       "      <td>29.3</td>\n",
       "    </tr>\n",
       "    <tr>\n",
       "      <th>369</th>\n",
       "      <td>22.8</td>\n",
       "      <td>25.7</td>\n",
       "    </tr>\n",
       "    <tr>\n",
       "      <th>...</th>\n",
       "      <td>...</td>\n",
       "      <td>...</td>\n",
       "    </tr>\n",
       "    <tr>\n",
       "      <th>268</th>\n",
       "      <td>40.1</td>\n",
       "      <td>40.6</td>\n",
       "    </tr>\n",
       "    <tr>\n",
       "      <th>148</th>\n",
       "      <td>45.1</td>\n",
       "      <td>18.2</td>\n",
       "    </tr>\n",
       "    <tr>\n",
       "      <th>16</th>\n",
       "      <td>70.1</td>\n",
       "      <td>69.7</td>\n",
       "    </tr>\n",
       "    <tr>\n",
       "      <th>66</th>\n",
       "      <td>50.7</td>\n",
       "      <td>54.4</td>\n",
       "    </tr>\n",
       "    <tr>\n",
       "      <th>341</th>\n",
       "      <td>37.0</td>\n",
       "      <td>37.8</td>\n",
       "    </tr>\n",
       "  </tbody>\n",
       "</table>\n",
       "<p>125 rows × 2 columns</p>\n",
       "</div>"
      ],
      "text/plain": [
       "     Price of a Unit Area(Correct Value)  Predicted Price\n",
       "358                                 45.1             48.6\n",
       "350                                 42.3             38.9\n",
       "373                                 52.2             43.5\n",
       "399                                 37.3             29.3\n",
       "369                                 22.8             25.7\n",
       "..                                   ...              ...\n",
       "268                                 40.1             40.6\n",
       "148                                 45.1             18.2\n",
       "16                                  70.1             69.7\n",
       "66                                  50.7             54.4\n",
       "341                                 37.0             37.8\n",
       "\n",
       "[125 rows x 2 columns]"
      ]
     },
     "execution_count": 18,
     "metadata": {},
     "output_type": "execute_result"
    }
   ],
   "source": [
    "pre2 = algo2.predict(feature_test_set)\n",
    "pd.DataFrame({'Price of a Unit Area(Correct Value)':label_test_set,'Predicted Price':pre2})"
   ]
  },
  {
   "cell_type": "markdown",
   "id": "bfa1e4aa",
   "metadata": {},
   "source": [
    "## Checking the model of Decision Tree Regression by various metrices(MSE,MAE,RMS)"
   ]
  },
  {
   "cell_type": "code",
   "execution_count": 19,
   "id": "2b345b02",
   "metadata": {},
   "outputs": [],
   "source": [
    "mean_sq = mean_squared_error(pre2, label_test_set)\n",
    "mean_abs = mean_absolute_error(pre2, label_test_set)\n",
    "rms = np.sqrt(mean_sq)"
   ]
  },
  {
   "cell_type": "code",
   "execution_count": 20,
   "id": "d43d117f",
   "metadata": {},
   "outputs": [
    {
     "data": {
      "text/plain": [
       "(66.74762, 5.3012, 8.169921664251133)"
      ]
     },
     "execution_count": 20,
     "metadata": {},
     "output_type": "execute_result"
    }
   ],
   "source": [
    "mean_sq, mean_abs, rms"
   ]
  },
  {
   "cell_type": "markdown",
   "id": "8cd27528",
   "metadata": {},
   "source": [
    "## Result of Decision Tree Regressor"
   ]
  },
  {
   "cell_type": "markdown",
   "id": "3963c043",
   "metadata": {},
   "source": [
    "## mean_sq, mean_abs, rms = (72.8629, 5.6796, 8.535976804092195)"
   ]
  },
  {
   "cell_type": "markdown",
   "id": "5a464764",
   "metadata": {},
   "source": [
    "## Random Forest Regressor"
   ]
  },
  {
   "cell_type": "code",
   "execution_count": 21,
   "id": "415c8918",
   "metadata": {},
   "outputs": [
    {
     "data": {
      "text/plain": [
       "RandomForestRegressor()"
      ]
     },
     "execution_count": 21,
     "metadata": {},
     "output_type": "execute_result"
    }
   ],
   "source": [
    "from sklearn.ensemble import RandomForestRegressor\n",
    "algo3 = RandomForestRegressor()\n",
    "algo3.fit(feature_train_set, label_train_set)"
   ]
  },
  {
   "cell_type": "code",
   "execution_count": 22,
   "id": "9c10ebef",
   "metadata": {},
   "outputs": [
    {
     "data": {
      "text/html": [
       "<div>\n",
       "<style scoped>\n",
       "    .dataframe tbody tr th:only-of-type {\n",
       "        vertical-align: middle;\n",
       "    }\n",
       "\n",
       "    .dataframe tbody tr th {\n",
       "        vertical-align: top;\n",
       "    }\n",
       "\n",
       "    .dataframe thead th {\n",
       "        text-align: right;\n",
       "    }\n",
       "</style>\n",
       "<table border=\"1\" class=\"dataframe\">\n",
       "  <thead>\n",
       "    <tr style=\"text-align: right;\">\n",
       "      <th></th>\n",
       "      <th>Price of a Unit Area(Correct Value)</th>\n",
       "      <th>Predicted Price</th>\n",
       "    </tr>\n",
       "  </thead>\n",
       "  <tbody>\n",
       "    <tr>\n",
       "      <th>358</th>\n",
       "      <td>45.1</td>\n",
       "      <td>48.574750</td>\n",
       "    </tr>\n",
       "    <tr>\n",
       "      <th>350</th>\n",
       "      <td>42.3</td>\n",
       "      <td>38.798000</td>\n",
       "    </tr>\n",
       "    <tr>\n",
       "      <th>373</th>\n",
       "      <td>52.2</td>\n",
       "      <td>52.744250</td>\n",
       "    </tr>\n",
       "    <tr>\n",
       "      <th>399</th>\n",
       "      <td>37.3</td>\n",
       "      <td>34.118000</td>\n",
       "    </tr>\n",
       "    <tr>\n",
       "      <th>369</th>\n",
       "      <td>22.8</td>\n",
       "      <td>25.820000</td>\n",
       "    </tr>\n",
       "    <tr>\n",
       "      <th>...</th>\n",
       "      <td>...</td>\n",
       "      <td>...</td>\n",
       "    </tr>\n",
       "    <tr>\n",
       "      <th>268</th>\n",
       "      <td>40.1</td>\n",
       "      <td>41.424833</td>\n",
       "    </tr>\n",
       "    <tr>\n",
       "      <th>148</th>\n",
       "      <td>45.1</td>\n",
       "      <td>24.495000</td>\n",
       "    </tr>\n",
       "    <tr>\n",
       "      <th>16</th>\n",
       "      <td>70.1</td>\n",
       "      <td>66.863500</td>\n",
       "    </tr>\n",
       "    <tr>\n",
       "      <th>66</th>\n",
       "      <td>50.7</td>\n",
       "      <td>52.232917</td>\n",
       "    </tr>\n",
       "    <tr>\n",
       "      <th>341</th>\n",
       "      <td>37.0</td>\n",
       "      <td>38.985000</td>\n",
       "    </tr>\n",
       "  </tbody>\n",
       "</table>\n",
       "<p>125 rows × 2 columns</p>\n",
       "</div>"
      ],
      "text/plain": [
       "     Price of a Unit Area(Correct Value)  Predicted Price\n",
       "358                                 45.1        48.574750\n",
       "350                                 42.3        38.798000\n",
       "373                                 52.2        52.744250\n",
       "399                                 37.3        34.118000\n",
       "369                                 22.8        25.820000\n",
       "..                                   ...              ...\n",
       "268                                 40.1        41.424833\n",
       "148                                 45.1        24.495000\n",
       "16                                  70.1        66.863500\n",
       "66                                  50.7        52.232917\n",
       "341                                 37.0        38.985000\n",
       "\n",
       "[125 rows x 2 columns]"
      ]
     },
     "execution_count": 22,
     "metadata": {},
     "output_type": "execute_result"
    }
   ],
   "source": [
    "pre3 = algo3.predict(feature_test_set)\n",
    "pd.DataFrame({'Price of a Unit Area(Correct Value)':label_test_set,'Predicted Price':pre3})"
   ]
  },
  {
   "cell_type": "markdown",
   "id": "719f19e6",
   "metadata": {},
   "source": [
    "## Checking the model of Random Forest Regressor by various metrices(MSE,MAE,RMS)"
   ]
  },
  {
   "cell_type": "code",
   "execution_count": 23,
   "id": "29ce4497",
   "metadata": {},
   "outputs": [],
   "source": [
    "mean_sq = mean_squared_error(pre3, label_test_set)\n",
    "mean_abs = mean_absolute_error(pre3, label_test_set)\n",
    "rms = np.sqrt(mean_sq)"
   ]
  },
  {
   "cell_type": "code",
   "execution_count": 24,
   "id": "2a164d58",
   "metadata": {},
   "outputs": [
    {
     "data": {
      "text/plain": [
       "(42.75676588782264, 4.334511942857144, 6.538865795214231)"
      ]
     },
     "execution_count": 24,
     "metadata": {},
     "output_type": "execute_result"
    }
   ],
   "source": [
    "mean_sq, mean_abs, rms"
   ]
  },
  {
   "cell_type": "markdown",
   "id": "c11d578d",
   "metadata": {},
   "source": [
    "## Result of Random Forest Regressor\n",
    "## mean_sq, mean_abs, rms = (44.826556491897776, 4.459660533333336, 6.695263735798447)"
   ]
  },
  {
   "cell_type": "markdown",
   "id": "804d63f9",
   "metadata": {},
   "source": [
    "## XgBoost"
   ]
  },
  {
   "cell_type": "code",
   "execution_count": 25,
   "id": "d69a2aab",
   "metadata": {},
   "outputs": [],
   "source": [
    "import xgboost as xgb"
   ]
  },
  {
   "cell_type": "code",
   "execution_count": 26,
   "id": "3db24f1e",
   "metadata": {},
   "outputs": [
    {
     "data": {
      "text/plain": [
       "XGBRegressor(base_score=None, booster=None, callbacks=None,\n",
       "             colsample_bylevel=None, colsample_bynode=None,\n",
       "             colsample_bytree=None, early_stopping_rounds=None,\n",
       "             enable_categorical=False, eval_metric=None, feature_types=None,\n",
       "             gamma=None, gpu_id=None, grow_policy=None, importance_type=None,\n",
       "             interaction_constraints=None, learning_rate=0.1, max_bin=None,\n",
       "             max_cat_threshold=None, max_cat_to_onehot=None,\n",
       "             max_delta_step=None, max_depth=3, max_leaves=None,\n",
       "             min_child_weight=None, missing=nan, monotone_constraints=None,\n",
       "             n_estimators=100, n_jobs=None, num_parallel_tree=None,\n",
       "             predictor=None, random_state=42, ...)"
      ]
     },
     "execution_count": 26,
     "metadata": {},
     "output_type": "execute_result"
    }
   ],
   "source": [
    "model = xgb.XGBRegressor(objective='reg:squarederror', n_estimators=100, max_depth = 3, learning_rate=0.1, random_state=42)\n",
    "model.fit(feature_train_set, label_train_set)"
   ]
  },
  {
   "cell_type": "code",
   "execution_count": 27,
   "id": "7b0e6186",
   "metadata": {},
   "outputs": [
    {
     "data": {
      "text/html": [
       "<div>\n",
       "<style scoped>\n",
       "    .dataframe tbody tr th:only-of-type {\n",
       "        vertical-align: middle;\n",
       "    }\n",
       "\n",
       "    .dataframe tbody tr th {\n",
       "        vertical-align: top;\n",
       "    }\n",
       "\n",
       "    .dataframe thead th {\n",
       "        text-align: right;\n",
       "    }\n",
       "</style>\n",
       "<table border=\"1\" class=\"dataframe\">\n",
       "  <thead>\n",
       "    <tr style=\"text-align: right;\">\n",
       "      <th></th>\n",
       "      <th>Price of a Unit Area(Correct Value)</th>\n",
       "      <th>Predicted Price</th>\n",
       "    </tr>\n",
       "  </thead>\n",
       "  <tbody>\n",
       "    <tr>\n",
       "      <th>358</th>\n",
       "      <td>45.1</td>\n",
       "      <td>48.145119</td>\n",
       "    </tr>\n",
       "    <tr>\n",
       "      <th>350</th>\n",
       "      <td>42.3</td>\n",
       "      <td>37.904346</td>\n",
       "    </tr>\n",
       "    <tr>\n",
       "      <th>373</th>\n",
       "      <td>52.2</td>\n",
       "      <td>51.828209</td>\n",
       "    </tr>\n",
       "    <tr>\n",
       "      <th>399</th>\n",
       "      <td>37.3</td>\n",
       "      <td>34.329784</td>\n",
       "    </tr>\n",
       "    <tr>\n",
       "      <th>369</th>\n",
       "      <td>22.8</td>\n",
       "      <td>24.114796</td>\n",
       "    </tr>\n",
       "    <tr>\n",
       "      <th>...</th>\n",
       "      <td>...</td>\n",
       "      <td>...</td>\n",
       "    </tr>\n",
       "    <tr>\n",
       "      <th>268</th>\n",
       "      <td>40.1</td>\n",
       "      <td>41.383808</td>\n",
       "    </tr>\n",
       "    <tr>\n",
       "      <th>148</th>\n",
       "      <td>45.1</td>\n",
       "      <td>25.361122</td>\n",
       "    </tr>\n",
       "    <tr>\n",
       "      <th>16</th>\n",
       "      <td>70.1</td>\n",
       "      <td>64.935081</td>\n",
       "    </tr>\n",
       "    <tr>\n",
       "      <th>66</th>\n",
       "      <td>50.7</td>\n",
       "      <td>48.073647</td>\n",
       "    </tr>\n",
       "    <tr>\n",
       "      <th>341</th>\n",
       "      <td>37.0</td>\n",
       "      <td>34.590202</td>\n",
       "    </tr>\n",
       "  </tbody>\n",
       "</table>\n",
       "<p>125 rows × 2 columns</p>\n",
       "</div>"
      ],
      "text/plain": [
       "     Price of a Unit Area(Correct Value)  Predicted Price\n",
       "358                                 45.1        48.145119\n",
       "350                                 42.3        37.904346\n",
       "373                                 52.2        51.828209\n",
       "399                                 37.3        34.329784\n",
       "369                                 22.8        24.114796\n",
       "..                                   ...              ...\n",
       "268                                 40.1        41.383808\n",
       "148                                 45.1        25.361122\n",
       "16                                  70.1        64.935081\n",
       "66                                  50.7        48.073647\n",
       "341                                 37.0        34.590202\n",
       "\n",
       "[125 rows x 2 columns]"
      ]
     },
     "execution_count": 27,
     "metadata": {},
     "output_type": "execute_result"
    }
   ],
   "source": [
    "pre4 = model.predict(feature_test_set)\n",
    "pd.DataFrame({'Price of a Unit Area(Correct Value)':label_test_set,'Predicted Price':pre4})"
   ]
  },
  {
   "cell_type": "markdown",
   "id": "b7899049",
   "metadata": {},
   "source": [
    "## Checking the model of XgBoost Regressor by various metrices(MSE,MAE,RMS)"
   ]
  },
  {
   "cell_type": "code",
   "execution_count": 28,
   "id": "8a7f3e20",
   "metadata": {},
   "outputs": [],
   "source": [
    "mean_sq = mean_squared_error(pre4, label_test_set)\n",
    "mean_abs = mean_absolute_error(pre4, label_test_set)\n",
    "rms = np.sqrt(mean_sq)"
   ]
  },
  {
   "cell_type": "code",
   "execution_count": 29,
   "id": "165d22fe",
   "metadata": {},
   "outputs": [
    {
     "data": {
      "text/plain": [
       "(44.72055443197218, 4.625200880432129, 6.687342852880521)"
      ]
     },
     "execution_count": 29,
     "metadata": {},
     "output_type": "execute_result"
    }
   ],
   "source": [
    "mean_sq, mean_abs, rms"
   ]
  },
  {
   "cell_type": "markdown",
   "id": "6e6a9514",
   "metadata": {},
   "source": [
    "## Result for XgBoost Regressor\n",
    "## mean_sq, mean_abs, rms = (44.72055443197218, 4.625200880432129, 6.687342852880521)"
   ]
  },
  {
   "cell_type": "markdown",
   "id": "e1581648",
   "metadata": {},
   "source": [
    "## \n",
    "## Out of all the algorithms which we have used we found the best result using the XgBoost \n",
    "## Regressor, Hence we are finalizing XgBoost algorithm as a main Algorithm for our prediction."
   ]
  },
  {
   "cell_type": "code",
   "execution_count": 30,
   "id": "90b94739",
   "metadata": {},
   "outputs": [],
   "source": [
    "feature_test_set['Predicted Price'] = pre4"
   ]
  },
  {
   "cell_type": "code",
   "execution_count": 31,
   "id": "3bfa3312",
   "metadata": {},
   "outputs": [
    {
     "data": {
      "text/html": [
       "<div>\n",
       "<style scoped>\n",
       "    .dataframe tbody tr th:only-of-type {\n",
       "        vertical-align: middle;\n",
       "    }\n",
       "\n",
       "    .dataframe tbody tr th {\n",
       "        vertical-align: top;\n",
       "    }\n",
       "\n",
       "    .dataframe thead th {\n",
       "        text-align: right;\n",
       "    }\n",
       "</style>\n",
       "<table border=\"1\" class=\"dataframe\">\n",
       "  <thead>\n",
       "    <tr style=\"text-align: right;\">\n",
       "      <th></th>\n",
       "      <th>X1 transaction date</th>\n",
       "      <th>X2 house age</th>\n",
       "      <th>X3 distance to the nearest MRT station</th>\n",
       "      <th>X4 number of convenience stores</th>\n",
       "      <th>X5 latitude</th>\n",
       "      <th>X6 longitude</th>\n",
       "      <th>Predicted Price</th>\n",
       "    </tr>\n",
       "  </thead>\n",
       "  <tbody>\n",
       "    <tr>\n",
       "      <th>358</th>\n",
       "      <td>2013.167</td>\n",
       "      <td>1.1</td>\n",
       "      <td>193.5845</td>\n",
       "      <td>6</td>\n",
       "      <td>24.96571</td>\n",
       "      <td>121.54089</td>\n",
       "      <td>48.145119</td>\n",
       "    </tr>\n",
       "    <tr>\n",
       "      <th>350</th>\n",
       "      <td>2013.000</td>\n",
       "      <td>13.2</td>\n",
       "      <td>492.2313</td>\n",
       "      <td>5</td>\n",
       "      <td>24.96515</td>\n",
       "      <td>121.53737</td>\n",
       "      <td>37.904346</td>\n",
       "    </tr>\n",
       "    <tr>\n",
       "      <th>373</th>\n",
       "      <td>2013.083</td>\n",
       "      <td>0.0</td>\n",
       "      <td>274.0144</td>\n",
       "      <td>1</td>\n",
       "      <td>24.97480</td>\n",
       "      <td>121.53059</td>\n",
       "      <td>51.828209</td>\n",
       "    </tr>\n",
       "    <tr>\n",
       "      <th>399</th>\n",
       "      <td>2012.917</td>\n",
       "      <td>12.7</td>\n",
       "      <td>170.1289</td>\n",
       "      <td>1</td>\n",
       "      <td>24.97371</td>\n",
       "      <td>121.52984</td>\n",
       "      <td>34.329784</td>\n",
       "    </tr>\n",
       "    <tr>\n",
       "      <th>369</th>\n",
       "      <td>2012.667</td>\n",
       "      <td>20.2</td>\n",
       "      <td>2185.1280</td>\n",
       "      <td>3</td>\n",
       "      <td>24.96322</td>\n",
       "      <td>121.51237</td>\n",
       "      <td>24.114796</td>\n",
       "    </tr>\n",
       "    <tr>\n",
       "      <th>...</th>\n",
       "      <td>...</td>\n",
       "      <td>...</td>\n",
       "      <td>...</td>\n",
       "      <td>...</td>\n",
       "      <td>...</td>\n",
       "      <td>...</td>\n",
       "      <td>...</td>\n",
       "    </tr>\n",
       "    <tr>\n",
       "      <th>268</th>\n",
       "      <td>2013.417</td>\n",
       "      <td>17.2</td>\n",
       "      <td>390.5684</td>\n",
       "      <td>5</td>\n",
       "      <td>24.97937</td>\n",
       "      <td>121.54245</td>\n",
       "      <td>41.383808</td>\n",
       "    </tr>\n",
       "    <tr>\n",
       "      <th>148</th>\n",
       "      <td>2013.500</td>\n",
       "      <td>16.4</td>\n",
       "      <td>3780.5900</td>\n",
       "      <td>0</td>\n",
       "      <td>24.93293</td>\n",
       "      <td>121.51203</td>\n",
       "      <td>25.361122</td>\n",
       "    </tr>\n",
       "    <tr>\n",
       "      <th>16</th>\n",
       "      <td>2013.250</td>\n",
       "      <td>0.0</td>\n",
       "      <td>292.9978</td>\n",
       "      <td>6</td>\n",
       "      <td>24.97744</td>\n",
       "      <td>121.54458</td>\n",
       "      <td>64.935081</td>\n",
       "    </tr>\n",
       "    <tr>\n",
       "      <th>66</th>\n",
       "      <td>2013.000</td>\n",
       "      <td>1.0</td>\n",
       "      <td>193.5845</td>\n",
       "      <td>6</td>\n",
       "      <td>24.96571</td>\n",
       "      <td>121.54089</td>\n",
       "      <td>48.073647</td>\n",
       "    </tr>\n",
       "    <tr>\n",
       "      <th>341</th>\n",
       "      <td>2013.000</td>\n",
       "      <td>13.0</td>\n",
       "      <td>750.0704</td>\n",
       "      <td>2</td>\n",
       "      <td>24.97371</td>\n",
       "      <td>121.54951</td>\n",
       "      <td>34.590202</td>\n",
       "    </tr>\n",
       "  </tbody>\n",
       "</table>\n",
       "<p>125 rows × 7 columns</p>\n",
       "</div>"
      ],
      "text/plain": [
       "     X1 transaction date  X2 house age  \\\n",
       "358             2013.167           1.1   \n",
       "350             2013.000          13.2   \n",
       "373             2013.083           0.0   \n",
       "399             2012.917          12.7   \n",
       "369             2012.667          20.2   \n",
       "..                   ...           ...   \n",
       "268             2013.417          17.2   \n",
       "148             2013.500          16.4   \n",
       "16              2013.250           0.0   \n",
       "66              2013.000           1.0   \n",
       "341             2013.000          13.0   \n",
       "\n",
       "     X3 distance to the nearest MRT station  X4 number of convenience stores  \\\n",
       "358                                193.5845                                6   \n",
       "350                                492.2313                                5   \n",
       "373                                274.0144                                1   \n",
       "399                                170.1289                                1   \n",
       "369                               2185.1280                                3   \n",
       "..                                      ...                              ...   \n",
       "268                                390.5684                                5   \n",
       "148                               3780.5900                                0   \n",
       "16                                 292.9978                                6   \n",
       "66                                 193.5845                                6   \n",
       "341                                750.0704                                2   \n",
       "\n",
       "     X5 latitude  X6 longitude  Predicted Price  \n",
       "358     24.96571     121.54089        48.145119  \n",
       "350     24.96515     121.53737        37.904346  \n",
       "373     24.97480     121.53059        51.828209  \n",
       "399     24.97371     121.52984        34.329784  \n",
       "369     24.96322     121.51237        24.114796  \n",
       "..           ...           ...              ...  \n",
       "268     24.97937     121.54245        41.383808  \n",
       "148     24.93293     121.51203        25.361122  \n",
       "16      24.97744     121.54458        64.935081  \n",
       "66      24.96571     121.54089        48.073647  \n",
       "341     24.97371     121.54951        34.590202  \n",
       "\n",
       "[125 rows x 7 columns]"
      ]
     },
     "execution_count": 31,
     "metadata": {},
     "output_type": "execute_result"
    }
   ],
   "source": [
    "feature_test_set"
   ]
  },
  {
   "cell_type": "code",
   "execution_count": 37,
   "id": "34bf4305",
   "metadata": {},
   "outputs": [
    {
     "data": {
      "image/png": "[encoded data removed]",
      "text/plain": [
       "<Figure size 432x288 with 1 Axes>"
      ]
     },
     "metadata": {
      "needs_background": "light"
     },
     "output_type": "display_data"
    }
   ],
   "source": [
    "sns.scatterplot(x= label_test_set,y= pre4, color='red')\n",
    "plt.xlabel('Actual Value')\n",
    "plt.ylabel('Predicted Value')\n",
    "plt.show()"
   ]
  },
  {
   "cell_type": "markdown",
   "id": "410a4546",
   "metadata": {},
   "source": [
    "## The above Dataset is a final Dataset which has the predicted value column which is calculated using the XgBoost Regressor"
   ]
  },
  {
   "cell_type": "markdown",
   "id": "509dc649",
   "metadata": {},
   "source": []
  }
 ],
 "metadata": {
  "kernelspec": {
   "display_name": "Python 3 (ipykernel)",
   "language": "python",
   "name": "python3"
  },
  "language_info": {
   "codemirror_mode": {
    "name": "ipython",
    "version": 3
   },
   "file_extension": ".py",
   "mimetype": "text/x-python",
   "name": "python",
   "nbconvert_exporter": "python",
   "pygments_lexer": "ipython3",
   "version": "3.9.12"
  }
 },
 "nbformat": 4,
 "nbformat_minor": 5
}
